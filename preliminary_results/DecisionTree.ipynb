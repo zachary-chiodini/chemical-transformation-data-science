{
 "cells": [
  {
   "cell_type": "code",
   "execution_count": 1,
   "metadata": {},
   "outputs": [],
   "source": [
    "import numpy as np, re, time\n",
    "import funks as f\n",
    "from typing import Any, Dict, List, Tuple\n",
    "from Bio import Entrez, Medline\n",
    "from decisiontree import DecisionTree"
   ]
  },
  {
   "cell_type": "code",
   "execution_count": 2,
   "metadata": {},
   "outputs": [],
   "source": [
    "with open( 'positive_examples.txt' ) as file :\n",
    "    posid = file.read().split( ',' )"
   ]
  },
  {
   "cell_type": "code",
   "execution_count": 3,
   "metadata": {},
   "outputs": [],
   "source": [
    "with open( 'negative_examples.txt' ) as file :\n",
    "    negid = file.read().split( ',' )"
   ]
  },
  {
   "cell_type": "code",
   "execution_count": 4,
   "metadata": {},
   "outputs": [],
   "source": [
    "with open( 'stopset.txt' ) as file :\n",
    "    stop_words = set( file.read().split( ',' ) )"
   ]
  },
  {
   "cell_type": "code",
   "execution_count": 5,
   "metadata": {},
   "outputs": [],
   "source": [
    "def get_abstract( pmid : str ) -> str :\n",
    "    '''\n",
    "    Get Abstract from PubMed\n",
    "    '''\n",
    "    return Medline.read(\n",
    "        Entrez.efetch(\n",
    "            db = 'pubmed',\n",
    "            id = pmid,\n",
    "            email = 'chiodini.zachary@epa.gov',\n",
    "            retmode = 'text',\n",
    "            rettype = 'medline'\n",
    "            )\n",
    "        ).get( 'AB' )"
   ]
  },
  {
   "cell_type": "code",
   "execution_count": 6,
   "metadata": {},
   "outputs": [
    {
     "data": {
      "text/plain": [
       "typing.Dict[typing.Any, typing.Dict]"
      ]
     },
     "execution_count": 6,
     "metadata": {},
     "output_type": "execute_result"
    }
   ],
   "source": [
    "# data structures\n",
    "Count = int\n",
    "Node = Any\n",
    "Array = List\n",
    "Class, Document, Word = str, str, str\n",
    "Data = List[ Tuple[ Document, Class ] ]\n",
    "Vocabulary = List[ Word ]\n",
    "Tree = Dict[ Node, Dict ]"
   ]
  },
  {
   "cell_type": "code",
   "execution_count": 7,
   "metadata": {},
   "outputs": [],
   "source": [
    "# getting data\n",
    "data : Data = np.ndarray( \n",
    "    shape = ( len( posid ) + len( negid ), 2 ), \n",
    "    dtype = object\n",
    "    )\n",
    "for i in range( len( posid ) ) :\n",
    "    data[ i, 0 ] = get_abstract( posid[ i ] )\n",
    "    data[ i, 1 ] = 'positive'\n",
    "    time.sleep( 1/3 ) # avoid PubMed ban\n",
    "for i in range( len( posid ), len( posid ) + len( negid ) ) :\n",
    "    data[ i, 0 ] = get_abstract( negid[ i - len( posid ) ] )\n",
    "    data[ i, 1 ] = 'negative'\n",
    "    time.sleep( 1/3 ) # avoid PubMed ban"
   ]
  },
  {
   "cell_type": "code",
   "execution_count": 8,
   "metadata": {},
   "outputs": [],
   "source": [
    "def extract( data : Data ) -> Vocabulary :\n",
    "    '''\n",
    "    Extract Vocabulary from Dataset\n",
    "    '''\n",
    "    vocabulary : Dict[ Word, Count ] = {}\n",
    "    for document, label in data :\n",
    "        for word in re.findall(\n",
    "            pattern = '\\\\b[a-z]{2,}\\\\b',\n",
    "            string  = document\n",
    "            ) :\n",
    "            if word not in stop_words :\n",
    "                if word in vocabulary :\n",
    "                    vocabulary[ word ] += 1\n",
    "                else :\n",
    "                    vocabulary[ word ] = 1\n",
    "    # remove first quartile in vocabulary\n",
    "    count = sorted( set( vocabulary.values() ) )\n",
    "    index = len( count ) / 4\n",
    "    if index % 1 == 0 :\n",
    "        limit = count[ int( index ) ]\n",
    "    else :\n",
    "        index = int( index ) # truncate\n",
    "        limit = ( count[ index ] + count[ index + 1 ] ) / 2\n",
    "    for word, count in vocabulary.copy().items() :\n",
    "        if count < limit :\n",
    "            del vocabulary[ word ]\n",
    "    return list( vocabulary )"
   ]
  },
  {
   "cell_type": "code",
   "execution_count": 9,
   "metadata": {},
   "outputs": [],
   "source": [
    "features : Vocabulary = np.array( extract( data ) )"
   ]
  },
  {
   "cell_type": "code",
   "execution_count": 10,
   "metadata": {},
   "outputs": [],
   "source": [
    "vector = np.vectorize( \n",
    "    lambda vocabulary, document : \n",
    "    int( vocabulary in document ) \n",
    "    )"
   ]
  },
  {
   "cell_type": "code",
   "execution_count": 154,
   "metadata": {},
   "outputs": [],
   "source": [
    "X = np.array( [ vector( features, data[ i, 0 ] ) for i in range( len( data ) ) ] )\n",
    "Y = data[ :, 1 ].reshape( len( X ), 1 )\n",
    "R = np.hstack( ( X, Y ))"
   ]
  },
  {
   "cell_type": "code",
   "execution_count": 159,
   "metadata": {},
   "outputs": [
    {
     "data": {
      "text/plain": [
       "array([[1, 1, 1, ..., 0, 0, 'positive'],\n",
       "       [0, 0, 0, ..., 0, 0, 'positive'],\n",
       "       [1, 0, 0, ..., 0, 0, 'positive'],\n",
       "       ...,\n",
       "       [0, 0, 0, ..., 0, 0, 'negative'],\n",
       "       [0, 0, 0, ..., 0, 0, 'negative'],\n",
       "       [0, 0, 0, ..., 0, 0, 'negative']], dtype=object)"
      ]
     },
     "execution_count": 159,
     "metadata": {},
     "output_type": "execute_result"
    }
   ],
   "source": [
    "R"
   ]
  },
  {
   "cell_type": "code",
   "execution_count": 2,
   "metadata": {},
   "outputs": [],
   "source": [
    "model = DecisionTree()\n",
    "model.importcsv( 'data.txt' )"
   ]
  },
  {
   "cell_type": "code",
   "execution_count": 26,
   "metadata": {},
   "outputs": [
    {
     "name": "stdout",
     "output_type": "stream",
     "text": [
      "Samples in training set:  100\n",
      "Samples tested         :  0\n",
      "Total samples          :  100\n",
      "Model accuracy         :  Unknown %\n"
     ]
    }
   ],
   "source": [
    "model.testAndTrain( ratio = 0 )"
   ]
  },
  {
   "cell_type": "code",
   "execution_count": 27,
   "metadata": {},
   "outputs": [
    {
     "data": {
      "image/png": "[encoded data removed]",
      "text/plain": [
       "<Figure size 432x288 with 1 Axes>"
      ]
     },
     "metadata": {
      "needs_background": "light"
     },
     "output_type": "display_data"
    },
    {
     "data": {
      "text/plain": [
       "<Figure size 432x288 with 0 Axes>"
      ]
     },
     "metadata": {},
     "output_type": "display_data"
    }
   ],
   "source": [
    "model.plot()"
   ]
  }
 ],
 "metadata": {
  "kernelspec": {
   "display_name": "Python 3",
   "language": "python",
   "name": "python3"
  },
  "language_info": {
   "codemirror_mode": {
    "name": "ipython",
    "version": 3
   },
   "file_extension": ".py",
   "mimetype": "text/x-python",
   "name": "python",
   "nbconvert_exporter": "python",
   "pygments_lexer": "ipython3",
   "version": "3.8.5"
  }
 },
 "nbformat": 4,
 "nbformat_minor": 4
}
