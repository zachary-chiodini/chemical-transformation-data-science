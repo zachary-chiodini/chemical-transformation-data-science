{
 "cells": [
  {
   "cell_type": "code",
   "execution_count": 1,
   "metadata": {},
   "outputs": [],
   "source": [
    "with open( \n",
    "    'C:\\\\Users\\\\zchiodin\\\\OneDrive - Environmental Protection Agency (EPA)\\\\Profile\\\\Downloads\\\n",
    "\\\\chebi_generic_dump_allstar\\\\chemical_data.sql\\\\chemical_data.txt' \n",
    ") as file :\n",
    "    sql = file.read()"
   ]
  },
  {
   "cell_type": "code",
   "execution_count": 15,
   "metadata": {},
   "outputs": [],
   "source": [
    "sql = sql.replace( \n",
    "    'insert into chemical_data (id, compound_id, chemical_data, source, type) values ', '' \n",
    ").replace( '(', '' ).replace( ')', '' ).replace( ';', '' )"
   ]
  },
  {
   "cell_type": "code",
   "execution_count": 16,
   "metadata": {},
   "outputs": [],
   "source": [
    "with open( \n",
    "    'C:\\\\Users\\\\zchiodin\\\\OneDrive - Environmental Protection Agency (EPA)\\\\Profile\\\\Downloads\\\n",
    "\\\\chebi_generic_dump_allstar\\\\chemical_data.sql\\\\chemical_data.txt',\n",
    "    'w'\n",
    ") as file :\n",
    "    file.write( sql )"
   ]
  },
  {
   "cell_type": "code",
   "execution_count": 24,
   "metadata": {},
   "outputs": [
    {
     "data": {
      "text/plain": [
       "501014"
      ]
     },
     "execution_count": 24,
     "metadata": {},
     "output_type": "execute_result"
    }
   ],
   "source": [
    "sql.count( '\\n' )"
   ]
  }
 ],
 "metadata": {
  "kernelspec": {
   "display_name": "Python 3",
   "language": "python",
   "name": "python3"
  },
  "language_info": {
   "codemirror_mode": {
    "name": "ipython",
    "version": 3
   },
   "file_extension": ".py",
   "mimetype": "text/x-python",
   "name": "python",
   "nbconvert_exporter": "python",
   "pygments_lexer": "ipython3",
   "version": "3.8.5"
  }
 },
 "nbformat": 4,
 "nbformat_minor": 4
}
