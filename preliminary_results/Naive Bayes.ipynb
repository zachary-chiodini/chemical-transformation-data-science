{
 "cells": [
  {
   "cell_type": "code",
   "execution_count": 1,
   "metadata": {},
   "outputs": [],
   "source": [
    "import time\n",
    "from typing import Dict, Set\n",
    "from Bio import Entrez, Medline\n",
    "from naivebayes import NaiveBayes"
   ]
  },
  {
   "cell_type": "code",
   "execution_count": 2,
   "metadata": {},
   "outputs": [],
   "source": [
    "with open( 'positive_examples.txt' ) as file :\n",
    "    posids = set( file.read().split( ',' ) )"
   ]
  },
  {
   "cell_type": "code",
   "execution_count": 3,
   "metadata": {},
   "outputs": [],
   "source": [
    "with open( 'negative_examples.txt' ) as file :\n",
    "    negids = set( file.read().split( ',' ) )"
   ]
  },
  {
   "cell_type": "code",
   "execution_count": 4,
   "metadata": {},
   "outputs": [],
   "source": [
    "Class, Document = str, str\n",
    "data : Dict[ Class, Set[ Document ] ] = { 'positive' : set(), 'negative' : set() }"
   ]
  },
  {
   "cell_type": "code",
   "execution_count": 5,
   "metadata": {},
   "outputs": [],
   "source": [
    "# getting data\n",
    "for pmid in posids :\n",
    "    data[ 'positive' ].add(\n",
    "        Medline.read( \n",
    "            Entrez.efetch(\n",
    "                db = 'pubmed',\n",
    "                id = pmid,\n",
    "                email = 'chiodini.zachary@epa.gov',\n",
    "                retmode = 'text',\n",
    "                rettype = 'medline'\n",
    "                )\n",
    "            ).get( 'AB' )\n",
    "        )\n",
    "    time.sleep( 1 ) # avoid PubMed ban\n",
    "for pmid in negids :\n",
    "    data[ 'negative' ].add(\n",
    "        Medline.read( \n",
    "            Entrez.efetch(\n",
    "                db = 'pubmed',\n",
    "                id = pmid,\n",
    "                email = 'chiodini.zachary@epa.gov',\n",
    "                retmode = 'text',\n",
    "                rettype = 'medline'\n",
    "                )\n",
    "            ).get( 'AB' )\n",
    "        )\n",
    "    time.sleep( 1 ) # avoid PubMed ban"
   ]
  },
  {
   "cell_type": "code",
   "execution_count": 37,
   "metadata": {
    "scrolled": true
   },
   "outputs": [
    {
     "name": "stdout",
     "output_type": "stream",
     "text": [
      "Examples in Training Set: 20\n",
      "Examples Tested         : 80\n",
      "Total Examples          : 100\n",
      "Model Accuracy          : 95.0%\n"
     ]
    }
   ],
   "source": [
    "model = NaiveBayes()\n",
    "model.trainAndTest( data, ratio = 0.2 )"
   ]
  }
 ],
 "metadata": {
  "kernelspec": {
   "display_name": "Python 3",
   "language": "python",
   "name": "python3"
  },
  "language_info": {
   "codemirror_mode": {
    "name": "ipython",
    "version": 3
   },
   "file_extension": ".py",
   "mimetype": "text/x-python",
   "name": "python",
   "nbconvert_exporter": "python",
   "pygments_lexer": "ipython3",
   "version": "3.8.5"
  }
 },
 "nbformat": 4,
 "nbformat_minor": 4
}
