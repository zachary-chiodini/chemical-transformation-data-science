{
 "cells": [
  {
   "cell_type": "markdown",
   "metadata": {},
   "source": [
    "<h1>Collecting First Dataset</h1>\n",
    "<hr>"
   ]
  },
  {
   "cell_type": "code",
   "execution_count": 1,
   "metadata": {},
   "outputs": [],
   "source": [
    "import re, time\n",
    "from Bio import Entrez, Medline"
   ]
  },
  {
   "cell_type": "markdown",
   "metadata": {},
   "source": [
    "<h3>30 Abstracts Containing Transformation Data and 70 Abstracts Not Containing Transformation Data</h3>\n",
    "<hr>"
   ]
  },
  {
   "cell_type": "code",
   "execution_count": 2,
   "metadata": {},
   "outputs": [],
   "source": [
    "posids = {\n",
    "    '20732191',  '4060166',  '6706932',  '6806905', '12386122',  '3804130',  '3804131', '17360832', '16702114',  '6141911',  \n",
    "     '2893708',  '4024104', '15625188', '16492914', '12505273', '11221833', '19812350', '11792678', '20659636', '22610610', \n",
    "    '25853821', '10506015', '10101144', '10681375', '24520218', '19447879', '24815348',  '7298740',  '9288499',  '3530584',\n",
    "    }\n",
    "negids = {\n",
    "    '33378747', '33378617', '33378573', '33378466', '33378414', '33378399', '33378370', '33378360', '33378269', '33378212',\n",
    "    '33378198', '33378192', '33378185', '33378184', '33378174', '33378148', '33378128', '33378120', '33378101', '33378084',\n",
    "    '33377782', '33377769', '33377768', '33377656', '33377640', '33377615', '33377601', '33383557', '33383550', '33383548',\n",
    "    '33383544', '33383518', '33383511', '33383506', '33383471', '33383435', '33383434', '33383431', '33383420', '33383417',\n",
    "    '33383382', '33383322', '33383300', '33383244', '33383237', '33383187', '33383155', '33383095', '33383078', '33383001',\n",
    "    '33382947', '33382946', '33382942', '33382808', '33385978', '33385970', '33385931', '33385910', '33385904', '33385899',\n",
    "    '33385969', '33385952', '33385920', '33386027', '33386025', '33386020', '33386018', '33386016', '33386015', '33386014'\n",
    "    }"
   ]
  },
  {
   "cell_type": "markdown",
   "metadata": {},
   "source": [
    "<h3>Positive examples were obtained from a manual chemical transformation data mining task previously done. Negative examples were collected from PubMed using the BioPython API and manually reading through the abstracts.</h3>\n",
    "<hr>"
   ]
  },
  {
   "cell_type": "code",
   "execution_count": 6,
   "metadata": {},
   "outputs": [],
   "source": [
    "examples = {}\n",
    "for pmid in Entrez.read( \n",
    "    Entrez.esearch( \n",
    "        db = 'pubmed', \n",
    "        term = 'chemical hasabstract', # related to chemistry (not completely random)\n",
    "        email = 'chiodini.zachary@epa.gov',\n",
    "        restart = 0,\n",
    "        retmax = 100\n",
    "        )\n",
    "    ).get( 'IdList' ) :\n",
    "    examples[ pmid ] = Medline.read( \n",
    "        Entrez.efetch(\n",
    "            db = 'pubmed',\n",
    "            id = pmid,\n",
    "            email = 'chiodini.zachary@epa.gov',\n",
    "            retmode = 'text',\n",
    "            rettype = 'medline',\n",
    "            )\n",
    "        ).get( 'AB' ) # abstract\n",
    "    time.sleep( 1 )   # avoid PubMed ban"
   ]
  },
  {
   "cell_type": "code",
   "execution_count": 13,
   "metadata": {},
   "outputs": [
    {
     "data": {
      "text/plain": [
       "'The present study was conducted to determine the Cd distribution and speciation in contaminated paddy soils and rice kernels using XANES/EXAFS spectroscopy. The morphology and crystallization of rice and soils were investigated using FE-SEM and XRD techniques. The EXAFS spectra of Cd in soil and rice kernels showed that cadmium oxides (CdO) in soil and rice kernels formed Cd clusters with Cd-O bond distances of 2.35 A and 2.25 A (coordination numbers of 2.3 and 3.8), respectively. The XRD patterns show that silica oxide (SiO2, 2theta = 24.2) and aluminum oxide (Al2O3, 2theta = 35.7) were the main components detected. The FE-SEM analysis revealed that the surface characteristics and sizes of the rice kernels are smooth and uneven with particle sizes of 0.5-4 microm, while the soil particles are not uniform and aggregated. Furthermore, the distribution of toxic metals/metalloid (Cd, Pb, Cr, Ni, As, Cu, and Zn) accumulated in the contaminated paddy soils and rice crops were also examined. Interestingly, these results offered an insight into the accumulation mechanism and distribution of heavy metals in contaminated rice farming soils and rice crops.'"
      ]
     },
     "execution_count": 13,
     "metadata": {},
     "output_type": "execute_result"
    }
   ],
   "source": [
    "examples[ '33387972' ]"
   ]
  },
  {
   "cell_type": "markdown",
   "metadata": {},
   "source": [
    "<h3>Exporting Data as a File</h3>\n",
    "<hr>"
   ]
  },
  {
   "cell_type": "code",
   "execution_count": 14,
   "metadata": {},
   "outputs": [],
   "source": [
    "with open( 'positive_examples.txt', 'w' ) as file :\n",
    "    file.write( \n",
    "        re.sub( \n",
    "            pattern = \"[' {}]\", \n",
    "            repl = '',\n",
    "            string = str( posids ) \n",
    "        )\n",
    "    )"
   ]
  },
  {
   "cell_type": "code",
   "execution_count": 15,
   "metadata": {},
   "outputs": [],
   "source": [
    "with open( 'negative_examples.txt', 'w' ) as file :\n",
    "    file.write( \n",
    "        re.sub( \n",
    "            pattern = \"[' {}]\", \n",
    "            repl = '',\n",
    "            string = str( negids ) \n",
    "        )\n",
    "    )"
   ]
  }
 ],
 "metadata": {
  "kernelspec": {
   "display_name": "Python 3",
   "language": "python",
   "name": "python3"
  },
  "language_info": {
   "codemirror_mode": {
    "name": "ipython",
    "version": 3
   },
   "file_extension": ".py",
   "mimetype": "text/x-python",
   "name": "python",
   "nbconvert_exporter": "python",
   "pygments_lexer": "ipython3",
   "version": "3.8.5"
  }
 },
 "nbformat": 4,
 "nbformat_minor": 4
}
