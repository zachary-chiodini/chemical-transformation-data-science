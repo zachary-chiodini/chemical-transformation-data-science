{
 "cells": [
  {
   "cell_type": "code",
   "execution_count": 1,
   "metadata": {
    "scrolled": true
   },
   "outputs": [],
   "source": [
    "import time\n",
    "from typing import Dict, Set\n",
    "from Bio import Entrez, Medline\n",
    "from naivebayes import NaiveBayes"
   ]
  },
  {
   "cell_type": "code",
   "execution_count": 2,
   "metadata": {},
   "outputs": [],
   "source": [
    "with open( 'positive_examples.txt' ) as file :\n",
    "    posids = set( file.read().split( ',' ) )"
   ]
  },
  {
   "cell_type": "code",
   "execution_count": 3,
   "metadata": {},
   "outputs": [],
   "source": [
    "with open( 'negative_examples.txt' ) as file :\n",
    "    negids = set( file.read().split( ',' ) )"
   ]
  },
  {
   "cell_type": "code",
   "execution_count": 4,
   "metadata": {},
   "outputs": [],
   "source": [
    "Class, Document = str, str\n",
    "data : Dict[ Class, Set[ Document ] ] = { 'positive' : set(), 'negative' : set() }"
   ]
  },
  {
   "cell_type": "code",
   "execution_count": 5,
   "metadata": {},
   "outputs": [],
   "source": [
    "# getting data\n",
    "for pmid in posids :\n",
    "    data[ 'positive' ].add(\n",
    "        Medline.read(\n",
    "            Entrez.efetch(\n",
    "                db = 'pubmed',\n",
    "                id = pmid,\n",
    "                email = 'chiodini.zachary@epa.gov',\n",
    "                retmode = 'text',\n",
    "                rettype = 'medline'\n",
    "                )\n",
    "            ).get( 'AB' )\n",
    "        )\n",
    "    time.sleep( 1 ) # avoid PubMed ban\n",
    "for pmid in negids :\n",
    "    data[ 'negative' ].add(\n",
    "        Medline.read(\n",
    "            Entrez.efetch(\n",
    "                db = 'pubmed',\n",
    "                id = pmid,\n",
    "                email = 'chiodini.zachary@epa.gov',\n",
    "                retmode = 'text',\n",
    "                rettype = 'medline'\n",
    "                )\n",
    "            ).get( 'AB' )\n",
    "        )\n",
    "    time.sleep( 1 ) # avoid PubMed ban"
   ]
  },
  {
   "cell_type": "code",
   "execution_count": 10,
   "metadata": {
    "scrolled": true
   },
   "outputs": [
    {
     "name": "stdout",
     "output_type": "stream",
     "text": [
      "Examples Trained: 50340\n",
      "Examples Tested : 49660\n",
      "Total Examples  : 100000\n"
     ]
    }
   ],
   "source": [
    "model = NaiveBayes()\n",
    "model.trainAndTest( data, iters = 1000 )"
   ]
  },
  {
   "cell_type": "code",
   "execution_count": 12,
   "metadata": {},
   "outputs": [
    {
     "data": {
      "text/html": [
       "<div>\n",
       "<style scoped>\n",
       "    .dataframe tbody tr th:only-of-type {\n",
       "        vertical-align: middle;\n",
       "    }\n",
       "\n",
       "    .dataframe tbody tr th {\n",
       "        vertical-align: top;\n",
       "    }\n",
       "\n",
       "    .dataframe thead th {\n",
       "        text-align: right;\n",
       "    }\n",
       "</style>\n",
       "<table border=\"1\" class=\"dataframe\">\n",
       "  <thead>\n",
       "    <tr style=\"text-align: right;\">\n",
       "      <th></th>\n",
       "      <th>positive</th>\n",
       "      <th>negative</th>\n",
       "      <th>model</th>\n",
       "    </tr>\n",
       "  </thead>\n",
       "  <tbody>\n",
       "    <tr>\n",
       "      <th>positive</th>\n",
       "      <td>14029</td>\n",
       "      <td>2488</td>\n",
       "      <td></td>\n",
       "    </tr>\n",
       "    <tr>\n",
       "      <th>negative</th>\n",
       "      <td>1074</td>\n",
       "      <td>32069</td>\n",
       "      <td></td>\n",
       "    </tr>\n",
       "    <tr>\n",
       "      <th>precision</th>\n",
       "      <td>0.849367</td>\n",
       "      <td>0.967595</td>\n",
       "      <td></td>\n",
       "    </tr>\n",
       "    <tr>\n",
       "      <th>truth rate</th>\n",
       "      <td>0.928888</td>\n",
       "      <td>0.928003</td>\n",
       "      <td></td>\n",
       "    </tr>\n",
       "    <tr>\n",
       "      <th>false rate</th>\n",
       "      <td>0.164735</td>\n",
       "      <td>0.0310791</td>\n",
       "      <td></td>\n",
       "    </tr>\n",
       "    <tr>\n",
       "      <th>accuracy</th>\n",
       "      <td></td>\n",
       "      <td></td>\n",
       "      <td>0.95(0.05)</td>\n",
       "    </tr>\n",
       "  </tbody>\n",
       "</table>\n",
       "</div>"
      ],
      "text/plain": [
       "            positive   negative       model\n",
       "positive       14029       2488            \n",
       "negative        1074      32069            \n",
       "precision   0.849367   0.967595            \n",
       "truth rate  0.928888   0.928003            \n",
       "false rate  0.164735  0.0310791            \n",
       "accuracy                         0.95(0.05)"
      ]
     },
     "execution_count": 12,
     "metadata": {},
     "output_type": "execute_result"
    }
   ],
   "source": [
    "import pandas as pd\n",
    "pd.DataFrame( model.predictions ).fillna( '' )"
   ]
  }
 ],
 "metadata": {
  "kernelspec": {
   "display_name": "Python 3",
   "language": "python",
   "name": "python3"
  },
  "language_info": {
   "codemirror_mode": {
    "name": "ipython",
    "version": 3
   },
   "file_extension": ".py",
   "mimetype": "text/x-python",
   "name": "python",
   "nbconvert_exporter": "python",
   "pygments_lexer": "ipython3",
   "version": "3.8.5"
  }
 },
 "nbformat": 4,
 "nbformat_minor": 4
}
