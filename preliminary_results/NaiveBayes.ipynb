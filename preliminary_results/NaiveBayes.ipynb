{
 "cells": [
  {
   "cell_type": "code",
   "execution_count": 1,
   "metadata": {
    "scrolled": true
   },
   "outputs": [],
   "source": [
    "import time\n",
    "from typing import Dict, Set\n",
    "from Bio import Entrez, Medline\n",
    "from naivebayes import NaiveBayes"
   ]
  },
  {
   "cell_type": "code",
   "execution_count": 2,
   "metadata": {},
   "outputs": [],
   "source": [
    "with open( 'positive_examples.txt' ) as file :\n",
    "    posids = set( file.read().split( ',' ) )"
   ]
  },
  {
   "cell_type": "code",
   "execution_count": 3,
   "metadata": {},
   "outputs": [],
   "source": [
    "with open( 'negative_examples.txt' ) as file :\n",
    "    negids = set( file.read().split( ',' ) )"
   ]
  },
  {
   "cell_type": "code",
   "execution_count": 4,
   "metadata": {},
   "outputs": [],
   "source": [
    "Class, Document = str, str\n",
    "data : Dict[ Class, Set[ Document ] ] = { 'positive' : set(), 'negative' : set() }"
   ]
  },
  {
   "cell_type": "code",
   "execution_count": 5,
   "metadata": {},
   "outputs": [],
   "source": [
    "# getting data\n",
    "for pmid in posids :\n",
    "    data[ 'positive' ].add(\n",
    "        Medline.read(\n",
    "            Entrez.efetch(\n",
    "                db = 'pubmed',\n",
    "                id = pmid,\n",
    "                email = 'chiodini.zachary@epa.gov',\n",
    "                retmode = 'text',\n",
    "                rettype = 'medline'\n",
    "                )\n",
    "            ).get( 'AB' )\n",
    "        )\n",
    "    time.sleep( 1/3 ) # avoid PubMed ban\n",
    "for pmid in negids :\n",
    "    data[ 'negative' ].add(\n",
    "        Medline.read(\n",
    "            Entrez.efetch(\n",
    "                db = 'pubmed',\n",
    "                id = pmid,\n",
    "                email = 'chiodini.zachary@epa.gov',\n",
    "                retmode = 'text',\n",
    "                rettype = 'medline'\n",
    "                )\n",
    "            ).get( 'AB' )\n",
    "        )\n",
    "    time.sleep( 1/3 ) # avoid PubMed ban"
   ]
  },
  {
   "cell_type": "code",
   "execution_count": 14,
   "metadata": {
    "scrolled": true
   },
   "outputs": [
    {
     "name": "stdout",
     "output_type": "stream",
     "text": [
      "Examples Trained: 503715\n",
      "Examples Tested : 496285\n",
      "Total Examples  : 1000000\n"
     ]
    }
   ],
   "source": [
    "model = NaiveBayes()\n",
    "model.trainAndTest( data, iters = 10000 ) # Monte Carlo cross-validation"
   ]
  },
  {
   "cell_type": "code",
   "execution_count": 15,
   "metadata": {},
   "outputs": [
    {
     "data": {
      "text/html": [
       "<div>\n",
       "<style scoped>\n",
       "    .dataframe tbody tr th:only-of-type {\n",
       "        vertical-align: middle;\n",
       "    }\n",
       "\n",
       "    .dataframe tbody tr th {\n",
       "        vertical-align: top;\n",
       "    }\n",
       "\n",
       "    .dataframe thead th {\n",
       "        text-align: right;\n",
       "    }\n",
       "</style>\n",
       "<table border=\"1\" class=\"dataframe\">\n",
       "  <thead>\n",
       "    <tr style=\"text-align: right;\">\n",
       "      <th></th>\n",
       "      <th>positive</th>\n",
       "      <th>negative</th>\n",
       "      <th>model</th>\n",
       "    </tr>\n",
       "  </thead>\n",
       "  <tbody>\n",
       "    <tr>\n",
       "      <th>positive</th>\n",
       "      <td>139485</td>\n",
       "      <td>25997</td>\n",
       "      <td></td>\n",
       "    </tr>\n",
       "    <tr>\n",
       "      <th>negative</th>\n",
       "      <td>11390</td>\n",
       "      <td>319413</td>\n",
       "      <td></td>\n",
       "    </tr>\n",
       "    <tr>\n",
       "      <th>precision</th>\n",
       "      <td>0.842901</td>\n",
       "      <td>0.965569</td>\n",
       "      <td></td>\n",
       "    </tr>\n",
       "    <tr>\n",
       "      <th>truth rate</th>\n",
       "      <td>0.924507</td>\n",
       "      <td>0.924736</td>\n",
       "      <td></td>\n",
       "    </tr>\n",
       "    <tr>\n",
       "      <th>false rate</th>\n",
       "      <td>0.172308</td>\n",
       "      <td>0.0329753</td>\n",
       "      <td></td>\n",
       "    </tr>\n",
       "    <tr>\n",
       "      <th>accuracy</th>\n",
       "      <td></td>\n",
       "      <td></td>\n",
       "      <td>0.94(0.06)</td>\n",
       "    </tr>\n",
       "  </tbody>\n",
       "</table>\n",
       "</div>"
      ],
      "text/plain": [
       "            positive   negative       model\n",
       "positive      139485      25997            \n",
       "negative       11390     319413            \n",
       "precision   0.842901   0.965569            \n",
       "truth rate  0.924507   0.924736            \n",
       "false rate  0.172308  0.0329753            \n",
       "accuracy                         0.94(0.06)"
      ]
     },
     "execution_count": 15,
     "metadata": {},
     "output_type": "execute_result"
    }
   ],
   "source": [
    "import pandas as pd\n",
    "pd.DataFrame( model.predictions ).fillna( '' )"
   ]
  }
 ],
 "metadata": {
  "kernelspec": {
   "display_name": "Python 3",
   "language": "python",
   "name": "python3"
  },
  "language_info": {
   "codemirror_mode": {
    "name": "ipython",
    "version": 3
   },
   "file_extension": ".py",
   "mimetype": "text/x-python",
   "name": "python",
   "nbconvert_exporter": "python",
   "pygments_lexer": "ipython3",
   "version": "3.8.5"
  }
 },
 "nbformat": 4,
 "nbformat_minor": 4
}
