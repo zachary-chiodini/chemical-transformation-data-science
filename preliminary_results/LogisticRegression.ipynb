{
 "cells": [
  {
   "cell_type": "code",
   "execution_count": 12,
   "metadata": {},
   "outputs": [],
   "source": [
    "import time\n",
    "from typing import Dict, Set\n",
    "from Bio import Entrez, Medline\n",
    "from logisticregression import LogisticRegression"
   ]
  },
  {
   "cell_type": "code",
   "execution_count": 2,
   "metadata": {},
   "outputs": [],
   "source": [
    "with open( 'positive_examples.txt' ) as file :\n",
    "    posids = set( file.read().split( ',' ) )"
   ]
  },
  {
   "cell_type": "code",
   "execution_count": 3,
   "metadata": {},
   "outputs": [],
   "source": [
    "with open( 'negative_examples.txt' ) as file :\n",
    "    negids = set( file.read().split( ',' ) )"
   ]
  },
  {
   "cell_type": "code",
   "execution_count": 4,
   "metadata": {},
   "outputs": [],
   "source": [
    "# define data structure\n",
    "Class, Document = str, str\n",
    "data : Dict[ Class, Set[ Document ] ] = { 'positive' : set(), 'negative' : set() }"
   ]
  },
  {
   "cell_type": "code",
   "execution_count": 5,
   "metadata": {},
   "outputs": [],
   "source": [
    "def get_abstract( pmid : Set[ str ] ) -> Dict[ Class, Set[ Document ] ] :\n",
    "    '''\n",
    "    Get Abstract from PubMed\n",
    "    '''\n",
    "    return Medline.read(\n",
    "        Entrez.efetch(\n",
    "            db = 'pubmed',\n",
    "            id = pmid,\n",
    "            email = 'chiodini.zachary@epa.gov',\n",
    "            retmode = 'text',\n",
    "            rettype = 'medline'\n",
    "            )\n",
    "        ).get( 'AB' )"
   ]
  },
  {
   "cell_type": "code",
   "execution_count": 6,
   "metadata": {},
   "outputs": [],
   "source": [
    "# getting data\n",
    "for pmid in posids :\n",
    "    data[ 'positive' ].add( get_abstract( pmid ) )\n",
    "    time.sleep( 1/3 ) # avoid PubMed ban\n",
    "for pmid in negids :\n",
    "    data[ 'negative' ].add( get_abstract( pmid ) )\n",
    "    time.sleep( 1/3 ) # avoid PubMed ban"
   ]
  },
  {
   "cell_type": "code",
   "execution_count": 42,
   "metadata": {},
   "outputs": [],
   "source": [
    "model = LogisticRegression()"
   ]
  },
  {
   "cell_type": "code",
   "execution_count": 43,
   "metadata": {},
   "outputs": [
    {
     "name": "stdout",
     "output_type": "stream",
     "text": [
      "Examples Trained: 900\n",
      "Examples Tested : 100\n",
      "Total Examples  : 1000\n"
     ]
    }
   ],
   "source": [
    "model.kFoldValidate( data, rate = 1, convergence = 0.01, target = 'positive', k = 10 ) # 10-fold cross-validation"
   ]
  },
  {
   "cell_type": "code",
   "execution_count": 44,
   "metadata": {},
   "outputs": [
    {
     "data": {
      "text/html": [
       "<div>\n",
       "<style scoped>\n",
       "    .dataframe tbody tr th:only-of-type {\n",
       "        vertical-align: middle;\n",
       "    }\n",
       "\n",
       "    .dataframe tbody tr th {\n",
       "        vertical-align: top;\n",
       "    }\n",
       "\n",
       "    .dataframe thead th {\n",
       "        text-align: right;\n",
       "    }\n",
       "</style>\n",
       "<table border=\"1\" class=\"dataframe\">\n",
       "  <thead>\n",
       "    <tr style=\"text-align: right;\">\n",
       "      <th></th>\n",
       "      <th>positive</th>\n",
       "      <th>negative</th>\n",
       "      <th>model</th>\n",
       "    </tr>\n",
       "  </thead>\n",
       "  <tbody>\n",
       "    <tr>\n",
       "      <th>positive</th>\n",
       "      <td>270</td>\n",
       "      <td>0</td>\n",
       "      <td></td>\n",
       "    </tr>\n",
       "    <tr>\n",
       "      <th>negative</th>\n",
       "      <td>0</td>\n",
       "      <td>630</td>\n",
       "      <td></td>\n",
       "    </tr>\n",
       "    <tr>\n",
       "      <th>truth rate</th>\n",
       "      <td>1</td>\n",
       "      <td>1</td>\n",
       "      <td></td>\n",
       "    </tr>\n",
       "    <tr>\n",
       "      <th>false rate</th>\n",
       "      <td>0</td>\n",
       "      <td>0</td>\n",
       "      <td></td>\n",
       "    </tr>\n",
       "    <tr>\n",
       "      <th>precision</th>\n",
       "      <td>1</td>\n",
       "      <td>1</td>\n",
       "      <td></td>\n",
       "    </tr>\n",
       "    <tr>\n",
       "      <th>accuracy</th>\n",
       "      <td></td>\n",
       "      <td></td>\n",
       "      <td>1.0(0.0)</td>\n",
       "    </tr>\n",
       "  </tbody>\n",
       "</table>\n",
       "</div>"
      ],
      "text/plain": [
       "           positive negative     model\n",
       "positive        270        0          \n",
       "negative          0      630          \n",
       "truth rate        1        1          \n",
       "false rate        0        0          \n",
       "precision         1        1          \n",
       "accuracy                      1.0(0.0)"
      ]
     },
     "execution_count": 44,
     "metadata": {},
     "output_type": "execute_result"
    }
   ],
   "source": [
    "import pandas as pd\n",
    "pd.DataFrame( model.predictions ).fillna( '' )"
   ]
  },
  {
   "cell_type": "code",
   "execution_count": 69,
   "metadata": {},
   "outputs": [
    {
     "name": "stdout",
     "output_type": "stream",
     "text": [
      "Examples Trained: 49691\n",
      "Examples Tested : 50309\n",
      "Total Examples  : 100000\n"
     ]
    }
   ],
   "source": [
    "model.trainAndTest( \n",
    "    data, target = 'positive', rate = 1, \n",
    "    batches = 1, convergence = 0.00001, iters = 1000 \n",
    "    ) # Monte-Carlo cross-validation"
   ]
  },
  {
   "cell_type": "code",
   "execution_count": 70,
   "metadata": {},
   "outputs": [
    {
     "data": {
      "text/html": [
       "<div>\n",
       "<style scoped>\n",
       "    .dataframe tbody tr th:only-of-type {\n",
       "        vertical-align: middle;\n",
       "    }\n",
       "\n",
       "    .dataframe tbody tr th {\n",
       "        vertical-align: top;\n",
       "    }\n",
       "\n",
       "    .dataframe thead th {\n",
       "        text-align: right;\n",
       "    }\n",
       "</style>\n",
       "<table border=\"1\" class=\"dataframe\">\n",
       "  <thead>\n",
       "    <tr style=\"text-align: right;\">\n",
       "      <th></th>\n",
       "      <th>positive</th>\n",
       "      <th>negative</th>\n",
       "      <th>model</th>\n",
       "    </tr>\n",
       "  </thead>\n",
       "  <tbody>\n",
       "    <tr>\n",
       "      <th>positive</th>\n",
       "      <td>12165</td>\n",
       "      <td>846</td>\n",
       "      <td></td>\n",
       "    </tr>\n",
       "    <tr>\n",
       "      <th>negative</th>\n",
       "      <td>3133</td>\n",
       "      <td>34165</td>\n",
       "      <td></td>\n",
       "    </tr>\n",
       "    <tr>\n",
       "      <th>truth rate</th>\n",
       "      <td>0.795202</td>\n",
       "      <td>0.975836</td>\n",
       "      <td></td>\n",
       "    </tr>\n",
       "    <tr>\n",
       "      <th>false rate</th>\n",
       "      <td>0.0241638</td>\n",
       "      <td>0.204798</td>\n",
       "      <td></td>\n",
       "    </tr>\n",
       "    <tr>\n",
       "      <th>precision</th>\n",
       "      <td>0.934978</td>\n",
       "      <td>0.916001</td>\n",
       "      <td></td>\n",
       "    </tr>\n",
       "    <tr>\n",
       "      <th>accuracy</th>\n",
       "      <td></td>\n",
       "      <td></td>\n",
       "      <td>0.94(0.06)</td>\n",
       "    </tr>\n",
       "  </tbody>\n",
       "</table>\n",
       "</div>"
      ],
      "text/plain": [
       "             positive  negative       model\n",
       "positive        12165       846            \n",
       "negative         3133     34165            \n",
       "truth rate   0.795202  0.975836            \n",
       "false rate  0.0241638  0.204798            \n",
       "precision    0.934978  0.916001            \n",
       "accuracy                         0.94(0.06)"
      ]
     },
     "execution_count": 70,
     "metadata": {},
     "output_type": "execute_result"
    }
   ],
   "source": [
    "pd.DataFrame( model.predictions ).fillna( '' )"
   ]
  }
 ],
 "metadata": {
  "kernelspec": {
   "display_name": "Python 3",
   "language": "python",
   "name": "python3"
  },
  "language_info": {
   "codemirror_mode": {
    "name": "ipython",
    "version": 3
   },
   "file_extension": ".py",
   "mimetype": "text/x-python",
   "name": "python",
   "nbconvert_exporter": "python",
   "pygments_lexer": "ipython3",
   "version": "3.8.5"
  }
 },
 "nbformat": 4,
 "nbformat_minor": 4
}
