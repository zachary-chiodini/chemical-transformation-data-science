{
 "cells": [
  {
   "cell_type": "code",
   "execution_count": 4,
   "metadata": {},
   "outputs": [],
   "source": [
    "import pandas as pd, pymysql\n",
    "from sshtunnel import SSHTunnelForwarder"
   ]
  },
  {
   "cell_type": "code",
   "execution_count": 18,
   "metadata": {},
   "outputs": [],
   "source": [
    "class MySQL :\n",
    "    \n",
    "    def __init__( self ) :\n",
    "        self.ssh = ''\n",
    "        self.con = ''\n",
    "        self.connect()\n",
    "        return\n",
    "    \n",
    "    def connect( self ) :\n",
    "        self.ssh = SSHTunnelForwarder(\n",
    "            ssh_address_or_host = 'cu.epa.gov',\n",
    "            ssh_username = 'zchiodin',\n",
    "            ssh_password = 'Welc0me2epa!',\n",
    "            remote_bind_address = ( 'ccte-mysql-res.epa.gov', 3306  )\n",
    "            )\n",
    "        self.ssh.start()\n",
    "        self.con = pymysql.connect(\n",
    "            user = 'zchiodini', \n",
    "            host = '127.0.0.1',\n",
    "            password = 'o%Ff5ct4#gWo1&qD',\n",
    "            database = 'sbox_zchiodini_chebi',\n",
    "            port = self.ssh.local_bind_port,\n",
    "            )\n",
    "        return\n",
    "    \n",
    "    def query( self, sql ) :\n",
    "        return pd.read_sql( sql, self.con, coerce_float = False )\n",
    "    \n",
    "    def close( self ) :\n",
    "        self.con.close()\n",
    "        self.ssh.close()\n",
    "        return"
   ]
  }
 ],
 "metadata": {
  "kernelspec": {
   "display_name": "Python 3",
   "language": "python",
   "name": "python3"
  },
  "language_info": {
   "codemirror_mode": {
    "name": "ipython",
    "version": 3
   },
   "file_extension": ".py",
   "mimetype": "text/x-python",
   "name": "python",
   "nbconvert_exporter": "python",
   "pygments_lexer": "ipython3",
   "version": "3.8.5"
  }
 },
 "nbformat": 4,
 "nbformat_minor": 4
}
