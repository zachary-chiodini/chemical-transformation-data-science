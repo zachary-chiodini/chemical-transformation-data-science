{
 "cells": [
  {
   "cell_type": "code",
   "execution_count": 1,
   "metadata": {},
   "outputs": [],
   "source": [
    "import pandas as pd, pymysql\n",
    "from sshtunnel import SSHTunnelForwarder\n",
    "from typing import Union"
   ]
  },
  {
   "cell_type": "code",
   "execution_count": 2,
   "metadata": {},
   "outputs": [],
   "source": [
    "class MySQL :\n",
    "    \n",
    "    def __init__( self, db = '' ) -> None :\n",
    "        self.db = db\n",
    "        self.ssh : SSHTunnelForwarder\n",
    "        self.con : pymysql.connections.Connection\n",
    "        self.cur : pymysql.cursors.Cursor\n",
    "        try :\n",
    "            self.connect()\n",
    "        except Exception as e :\n",
    "            print( e )\n",
    "        return\n",
    "    \n",
    "    def connect( self ) -> None :\n",
    "        self.ssh = SSHTunnelForwarder(\n",
    "            ssh_address_or_host = 'cu.epa.gov',\n",
    "            ssh_username = 'zchiodin',\n",
    "            ssh_password = '12Excelsiscelia$',\n",
    "            remote_bind_address = ( 'ccte-mysql-res.epa.gov', 3306  )\n",
    "            )\n",
    "        self.ssh.start()\n",
    "        self.con = pymysql.connect(\n",
    "            user = 'zchiodini', \n",
    "            host = '127.0.0.1',\n",
    "            password = 'o%Ff5ct4#gWo1&qD',\n",
    "            database = self.db,\n",
    "            port = self.ssh.local_bind_port,\n",
    "            )\n",
    "        self.cur = self.con.cursor()\n",
    "        return\n",
    "    \n",
    "    def query( self, sql : str ) -> Union[ pd.DataFrame, None ] :\n",
    "        '''Query MySQL'''\n",
    "        try : \n",
    "            return pd.read_sql( sql, self.con, coerce_float = False )\n",
    "        except Exception as e : \n",
    "            print( e )\n",
    "        return\n",
    "    \n",
    "    def execute( self, sql : str, commit = False ) -> None :\n",
    "        '''Execute script on MySQL'''\n",
    "        try : \n",
    "            self.cur.execute( sql )\n",
    "            if commit : \n",
    "                self.con.commit()\n",
    "        except Exception as e :\n",
    "            print( e )\n",
    "        print( self.cur.rowcount, 'rows affected' )\n",
    "        return\n",
    "    \n",
    "    def commit( self ) -> None :\n",
    "        self.con.commit()\n",
    "        return\n",
    "    \n",
    "    def close( self ) -> None :\n",
    "        self.cur.close()\n",
    "        self.con.close()\n",
    "        self.ssh.close()\n",
    "        self.ssh = ''\n",
    "        self.con = ''\n",
    "        return"
   ]
  }
 ],
 "metadata": {
  "kernelspec": {
   "display_name": "Python 3",
   "language": "python",
   "name": "python3"
  },
  "language_info": {
   "codemirror_mode": {
    "name": "ipython",
    "version": 3
   },
   "file_extension": ".py",
   "mimetype": "text/x-python",
   "name": "python",
   "nbconvert_exporter": "python",
   "pygments_lexer": "ipython3",
   "version": "3.8.5"
  }
 },
 "nbformat": 4,
 "nbformat_minor": 4
}
